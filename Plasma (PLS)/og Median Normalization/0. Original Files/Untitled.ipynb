{
 "cells": [
  {
   "cell_type": "code",
   "execution_count": 3,
   "id": "fd62edeb-a98a-42e1-b373-82b7a90a9d9a",
   "metadata": {},
   "outputs": [
    {
     "name": "stdout",
     "output_type": "stream",
     "text": [
      "New Names {'Action', 'SampleID', 'classe originale', 'classe finale', 'Class Change?', 'NEW CLASS'}\n",
      "Old Names {'VECPAC3304_300124', 'LPS962_160124', 'DSST1.6_190124', 'LPS955_160124', 'VECPAC3318_300124', 'VECPAC_3329_290124', 'pls_128_rep_14012022', 'VECPAC3688_260124', 'LPS959_160124', 'DSST3.6_230124', 'DSST0.6_180124', 'DSST5.8_250124', 'LPS953_160124', 'pls_119_13012022', 'VECPAC_3307_290124', 'DSS87_230124', 'pls_126_14012022', 'VECPAC3296_300124', 'DSST1.7_190124', 'DSS122_230124', 'VECPAC3687_260124', 'VECPAC3303_300124', 'DSS897_180124', 'DSST1.5_190124', 'LPS940_150124', 'VECPAC3353_260124', 'LPS934_150124', 'VECPAC_3371_290124', 'VECPAC3370_300124', 'LPS961_160124', 'DSS117_REP_310124', 'DSS94_250124', 'DSS906_230124', 'VECPAC3302_260124', 'LPS963_160124', 'LPS960_160124', 'DSS901_190124', 'pls_123_13012022', 'DSS911_REP_250124', 'pls_118_a_12012022', 'pls_107_a_12012022', 'LPS937_150124', 'DSS126_250124', 'DSST0.5_180124', 'pls_113_13012022', 'VECPAC3679_250124', 'LPS947_160124', 'LPS950_160124', 'DSS125_250124', 'DSST3.8_230124', 'VECPAC_3354_290124', 'pls_115_13012022', 'DSST1.8_190124', 'DSST5.6_REP_250124', 'LPS936_150124', 'pls_110_13012022', 'VECPAC_3336_290124', 'VECPAC_3352_290124', 'pls_125_13012022', 'pls_109_13012022', 'LPS946_160124', 'pls_97_13012022', 'LPS951_160124', 'VECPAC3356_300124', 'DSST0.8_180124', 'VECPAC3369_260124', 'DSS902_190124', 'LPS942_150124', 'pls_88_13012022', 'DSST0.7_180124', 'VECPAC3677_250124', 'pls_102_13012022', 'LPS935_150124', 'DSS73_REP_190124', 'LPS938_150124', 'pls_71_a_12012022', 'VECPAC_3319_290124', 'pls_104_13012022', 'DSS91_REP_310124', 'DSS896_180124', 'pls_89_14012022', 'DSST5.7_REP_250124', 'DSS127_250124', 'pls_106_13012022', 'LPS958_160124', 'pls_124_14012022', 'VECPAC_3355_290124', 'DSS77_REP_190124', 'VECPAC3330_300124', 'pls_70_a_12012022', 'LPS943_150124', 'LPS957_160124', 'VECPAC3680_250124', 'pls_129_12012022', 'DSST3.7_230124', 'VECPAC3674_250124', 'VECPAC3681_250124', 'DSST5.5_REP_250124', 'VECPAC_3337_290124', 'DSS912_REP_250124', 'VECPAC_3665_290124', 'VECPAC3678_250124', 'pls_74_12012022', 'LPS949_160124', 'pls_120_13012022', 'pls_103_14012022', 'LPS945_160124', 'DSS95_250124', 'LPS941_150124', 'VECPAC3697_260124', 'LPS944_160124', 'DSS107_190124', 'VECPAC3673_250124', 'LPS956_160124', 'VECPAC_3689_290124', 'VECPAC3328_300124', 'VECPAC_3347_290124', 'pls_96a_14012022', 'VECPAC3675_250124', 'pls_116_12012022', 'LPS948_160124', 'DSS85_230124', 'LPS939_150124', 'VECPAC3334_300124', 'LPS952_160124', 'pls_101_REP_14012022', 'pls_108_13012022', 'DSS90_230124', 'pls_100_13012022', 'DSS907_230124', 'pls_127_a_12012022', 'pls_112_13012022', 'VECPAC3306_300124', 'pls_75_13012022', 'VECPAC_3664_290124', 'DSS129_250124', 'DSS76_REP_190124', 'pls_121_a_12012022', 'pls_84_12012022', 'LPS954_160124'}\n"
     ]
    }
   ],
   "source": [
    "import pandas as pd\n",
    "\n",
    "normalized = pd.read_csv(\"Filtered Metabolomics - Plasma.csv\", header=None, encoding=\"mac_roman\", engine=\"python\")\n",
    "original   = pd.read_csv(\"PLS_normalized.csv\", header=None, encoding=\"mac_roman\", engine=\"python\")\n",
    "\n",
    "row_norm = normalized.iloc[0].dropna().astype(str).tolist()\n",
    "row_orig = original.iloc[0].dropna().astype(str).tolist()\n",
    "set_norm = set(row_norm)\n",
    "set_orig = set(row_orig)\n",
    "\n",
    "# Find differences\n",
    "only_in_norm = set_norm - set_orig\n",
    "only_in_orig = set_orig - set_norm\n",
    "\n",
    "print(\"New Names\", only_in_norm)\n",
    "print(\"Old Names\", only_in_orig)\n"
   ]
  },
  {
   "cell_type": "code",
   "execution_count": null,
   "id": "791f8fb0-f0e7-429e-b150-81f77854e86f",
   "metadata": {},
   "outputs": [],
   "source": []
  }
 ],
 "metadata": {
  "kernelspec": {
   "display_name": "Python [conda env:base] *",
   "language": "python",
   "name": "conda-base-py"
  },
  "language_info": {
   "codemirror_mode": {
    "name": "ipython",
    "version": 3
   },
   "file_extension": ".py",
   "mimetype": "text/x-python",
   "name": "python",
   "nbconvert_exporter": "python",
   "pygments_lexer": "ipython3",
   "version": "3.12.7"
  }
 },
 "nbformat": 4,
 "nbformat_minor": 5
}
