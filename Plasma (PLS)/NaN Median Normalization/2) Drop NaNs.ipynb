{
 "cells": [
  {
   "cell_type": "code",
   "execution_count": 86,
   "id": "ae110982-a551-4cc9-9670-8cf804d249a4",
   "metadata": {},
   "outputs": [
    {
     "name": "stdout",
     "output_type": "stream",
     "text": [
      "File saved as\n"
     ]
    }
   ],
   "source": [
    "import pandas as pd\n",
    "import numpy as np\n",
    "\n",
    "def NaN_the_zeros(med_filter_path, raw_file_path):\n",
    "    # Read files\n",
    "    med_filter = pd.read_csv(med_filter_path, header=[0], index_col=0)\n",
    "    raw_file = pd.read_csv(raw_file_path, header=[0], skiprows=[1], index_col=0).astype(float)\n",
    "    #print(med_filter)\n",
    "    time = med_filter.iloc[[0]]\n",
    "    body = med_filter.iloc[1:].astype(float)\n",
    "    #print(raw_file)\n",
    "    \n",
    "    #print(raw_file != 0.0)\n",
    "    med_NaN = body.where(raw_file != 0)\n",
    "    #med_NaN.loc[-1] = time\n",
    "    #med_NaN.index = med_NaN.index + 1\n",
    "    #med_NaN.sort_index(inplace=True)\n",
    "\n",
    "    final = pd.concat([time,med_NaN],axis=0,ignore_index=False)\n",
    "    #print(med_NaN)\n",
    "\n",
    "    #pd.concat([time,raw_NaN])\n",
    "    # --- Save or return result ---\n",
    "    final.to_csv(\"dss_new.csv\", header=True, index=True)\n",
    "    print(\"File saved as\")\n",
    "\n",
    "\n",
    "# ------------- Run -------------\n",
    "NaN_the_zeros(\"./1. Filtered Data/pls_filtered.csv\",\n",
    "              \"./0. Original Files/raw_pls_filtered.csv\")\n"
   ]
  },
  {
   "cell_type": "code",
   "execution_count": null,
   "id": "8db9151e-f0d9-4a82-9366-bfa5fab54381",
   "metadata": {},
   "outputs": [],
   "source": []
  }
 ],
 "metadata": {
  "kernelspec": {
   "display_name": "Python [conda env:base] *",
   "language": "python",
   "name": "conda-base-py"
  },
  "language_info": {
   "codemirror_mode": {
    "name": "ipython",
    "version": 3
   },
   "file_extension": ".py",
   "mimetype": "text/x-python",
   "name": "python",
   "nbconvert_exporter": "python",
   "pygments_lexer": "ipython3",
   "version": "3.12.7"
  }
 },
 "nbformat": 4,
 "nbformat_minor": 5
}
