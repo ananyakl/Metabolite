{
 "cells": [
  {
   "cell_type": "code",
   "execution_count": 6,
   "id": "fd62edeb-a98a-42e1-b373-82b7a90a9d9a",
   "metadata": {},
   "outputs": [
    {
     "name": "stdout",
     "output_type": "stream",
     "text": [
      "New Names set()\n",
      "Old Names set()\n"
     ]
    }
   ],
   "source": [
    "import pandas as pd\n",
    "\n",
    "normalized = pd.read_csv(\"Edited Data.csv\", header=None, encoding=\"mac_roman\", engine=\"python\")\n",
    "original   = pd.read_csv(\"PLS_normalized.csv\", header=None, encoding=\"mac_roman\", engine=\"python\")\n",
    "\n",
    "row_norm = normalized.iloc[0].dropna().astype(str).tolist()\n",
    "row_orig = original.iloc[0].dropna().astype(str).tolist()\n",
    "set_norm = set(row_norm)\n",
    "set_orig = set(row_orig)\n",
    "\n",
    "# Find differences\n",
    "only_in_norm = set_norm - set_orig\n",
    "only_in_orig = set_orig - set_norm\n",
    "\n",
    "print(\"New Names\", only_in_norm)\n",
    "print(\"Old Names\", only_in_orig)\n"
   ]
  },
  {
   "cell_type": "code",
   "execution_count": null,
   "id": "791f8fb0-f0e7-429e-b150-81f77854e86f",
   "metadata": {},
   "outputs": [],
   "source": []
  }
 ],
 "metadata": {
  "kernelspec": {
   "display_name": "Python [conda env:base] *",
   "language": "python",
   "name": "conda-base-py"
  },
  "language_info": {
   "codemirror_mode": {
    "name": "ipython",
    "version": 3
   },
   "file_extension": ".py",
   "mimetype": "text/x-python",
   "name": "python",
   "nbconvert_exporter": "python",
   "pygments_lexer": "ipython3",
   "version": "3.12.7"
  }
 },
 "nbformat": 4,
 "nbformat_minor": 5
}
