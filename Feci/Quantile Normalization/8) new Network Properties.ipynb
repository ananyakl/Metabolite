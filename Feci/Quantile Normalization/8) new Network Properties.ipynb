{
 "cells": [
  {
   "cell_type": "markdown",
   "id": "a86f0ba0-dba6-4697-946e-ad8394eed197",
   "metadata": {},
   "source": [
    "Count Positive and Negative Edges"
   ]
  },
  {
   "cell_type": "markdown",
   "id": "79f13d07-29f1-46e1-bf54-1627de56ee3f",
   "metadata": {},
   "source": [
    "Nodes"
   ]
  },
  {
   "cell_type": "code",
   "execution_count": 5,
   "id": "95783ef1-f65d-43d1-b6e5-3747abcc42d9",
   "metadata": {},
   "outputs": [
    {
     "name": "stdout",
     "output_type": "stream",
     "text": [
      "Done with QUANTILE\n"
     ]
    }
   ],
   "source": [
    "import pandas as pd\n",
    "import numpy as np\n",
    "\n",
    "# Read files\n",
    "input_path = \"./Meta-analysis + FDR Table.csv\"\n",
    "df = pd.read_csv(input_path)\n",
    "total_edges_all = df.shape[0]\n",
    "\n",
    "# Drop NaN Rows\n",
    "df = df.dropna(subset=[\"Meta-Analysis p-value\", \"FDR\"])\n",
    "#print(df.head())\n",
    "#total_edges_all = df.shape[0]\n",
    "\n",
    "\n",
    "# Thresholds\n",
    "thresholds = [1.0, 0.3, 0.25, 0.2, 0.15, 0.1, 0.05, 0.01]\n",
    "results = []\n",
    "\n",
    "for p_thresh in thresholds:\n",
    "    for fdr_thresh in thresholds:\n",
    "        # If less than thresholds\n",
    "        max_p_val = np.nanmax(df[[\"VECPAC p-values\", \"LPS p-values\", \"DSS p-values\"]],axis=1)\n",
    "        is_pval_pass = (max_p_val <= p_thresh)\n",
    "        \n",
    "        is_fdr_pass = df[\"FDR\"] <= fdr_thresh\n",
    "        matches = df[is_pval_pass & is_fdr_pass]\n",
    "\n",
    "        # Count total edges\n",
    "        total_edges = matches.shape[0]\n",
    "\n",
    "        # Count positive and negative edges\n",
    "        to_check = [\"VECPAC r\", \"LPS r\", \"DSS r\"]\n",
    "\n",
    "        #nonnan count is a row with true or false if it is or isn't na\n",
    "        #so adding them up should be 2 or 3\n",
    "        non_nan_count = matches[to_check].notna().sum(axis=1)  # Series\n",
    "        sign_sum = np.nansum(np.sign(matches[to_check].values), axis=1)  # Series\n",
    "    \n",
    "        # Element-wise comparisons create boolean masks\n",
    "        pos_edges = (sign_sum == non_nan_count).sum()  # Count True values\n",
    "        neg_edges = (sign_sum == -non_nan_count).sum()\n",
    "    \n",
    "        #pos_edges = len(df[df[\"edge_dir\"] == 1])\n",
    "        #neg_edges = len(df[df[\"edge_dir\"] == -1])\n",
    "    \n",
    "        if neg_edges > 0:\n",
    "            pos_neg_ratio = pos_edges/neg_edges \n",
    "        else:\n",
    "            pos_neg_ratio = np.nan\n",
    "\n",
    "\n",
    "        #  Unique nodes\n",
    "        unique_nodes = pd.concat([matches[\"Metabolite 1\"], matches[\"Metabolite 2\"]]).unique()\n",
    "        unique_node_count = len(unique_nodes)\n",
    "\n",
    "        # Density\n",
    "        total_edges = matches.shape[0]\n",
    "        #print(matches)\n",
    "        edges = (unique_node_count * (unique_node_count-1)) / 2\n",
    "        density = total_edges / edges\n",
    "\n",
    "        # Mean Correlation Coefficient\n",
    "        #print(matches)\n",
    "        r_cols = [\"VECPAC r\", \"DSS r\", \"LPS r\"]\n",
    "\n",
    "        edge_means = matches[r_cols].apply(pd.to_numeric, errors=\"coerce\").mean(axis=1)\n",
    "        mean_corr = edge_means.mean()\n",
    "        \n",
    "        # Append results\n",
    "        results.append({\n",
    "            \"Individual_Pval\": p_thresh,\n",
    "            \"FDR\": fdr_thresh,\n",
    "            \"Total_Nodes\": unique_node_count,\n",
    "            \"Total_Edges\": total_edges,\n",
    "            \"Positive_Edges\": pos_edges,\n",
    "            \"Negative_Edges\": neg_edges,\n",
    "            \"Pos_to_Neg\": pos_neg_ratio,            \n",
    "            \"Density\": density,\n",
    "            \"Mean_Corr_Coeff\": mean_corr\n",
    "        })\n",
    "\n",
    "# Output\n",
    "out_df = pd.DataFrame(results)\n",
    "    #columns=[\"Individual P-value\", \"FDR Threshold\", \"Unique Nodes\", \"Edges\", \"Positive Edges\", \"Negative Edges\", \"Positive:Negative Ratio\", \"Density\", \"Mean Correlation Coefficient\"]\n",
    "\n",
    "\n",
    "# Save results\n",
    "out_df.to_csv(\"feci_quantile_network_properties.csv\", index=False)\n",
    "\n",
    "print(\"Done with QUANTILE\")\n"
   ]
  },
  {
   "cell_type": "code",
   "execution_count": null,
   "id": "a1429149-dc38-4786-a788-ebb9d8ad0473",
   "metadata": {},
   "outputs": [],
   "source": []
  }
 ],
 "metadata": {
  "kernelspec": {
   "display_name": "Python [conda env:base] *",
   "language": "python",
   "name": "conda-base-py"
  },
  "language_info": {
   "codemirror_mode": {
    "name": "ipython",
    "version": 3
   },
   "file_extension": ".py",
   "mimetype": "text/x-python",
   "name": "python",
   "nbconvert_exporter": "python",
   "pygments_lexer": "ipython3",
   "version": "3.12.7"
  }
 },
 "nbformat": 4,
 "nbformat_minor": 5
}
